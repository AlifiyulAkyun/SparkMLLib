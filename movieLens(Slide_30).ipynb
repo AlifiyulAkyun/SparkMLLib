{
  "nbformat": 4,
  "nbformat_minor": 0,
  "metadata": {
    "colab": {
      "provenance": [],
      "authorship_tag": "ABX9TyO/dciAd2eufRkHODj8Yaat",
      "include_colab_link": true
    },
    "kernelspec": {
      "name": "python3",
      "display_name": "Python 3"
    },
    "language_info": {
      "name": "python"
    }
  },
  "cells": [
    {
      "cell_type": "markdown",
      "metadata": {
        "id": "view-in-github",
        "colab_type": "text"
      },
      "source": [
        "<a href=\"https://colab.research.google.com/github/AlifiyulAkyun/SparkMLLib/blob/main/movieLens(Slide_30).ipynb\" target=\"_parent\"><img src=\"https://colab.research.google.com/assets/colab-badge.svg\" alt=\"Open In Colab\"/></a>"
      ]
    },
    {
      "cell_type": "markdown",
      "source": [
        "* Nama : Alifiyul Akyun\n",
        "* No : 04\n",
        "* Kelas : TI3B\n",
        "* NIM : 2041720036"
      ],
      "metadata": {
        "id": "WQzMsYVmhzen"
      }
    },
    {
      "cell_type": "code",
      "source": [
        "# Sumber : https://github.com/cloudxlab/bigdata/blob/master/spark/examples/mllib/ml-recommender.scala"
      ],
      "metadata": {
        "id": "DVA9osMvh0Ad"
      },
      "execution_count": 2,
      "outputs": []
    },
    {
      "cell_type": "code",
      "source": [
        "\n",
        "# Connect Google Drive Untuk Ambil Data\n",
        "from google.colab import drive\n",
        "drive.mount('/content/drive')\n",
        ""
      ],
      "metadata": {
        "colab": {
          "base_uri": "https://localhost:8080/"
        },
        "id": "iIHgTm9Vh6nz",
        "outputId": "9224e5cf-80ab-4966-9715-aac957cc0c74"
      },
      "execution_count": 3,
      "outputs": [
        {
          "output_type": "stream",
          "name": "stdout",
          "text": [
            "Mounted at /content/drive\n"
          ]
        }
      ]
    },
    {
      "cell_type": "code",
      "source": [
        "# Install PySpark\n",
        "!pip install pyspark\n"
      ],
      "metadata": {
        "colab": {
          "base_uri": "https://localhost:8080/"
        },
        "id": "pUnDE5-ah8gJ",
        "outputId": "59271ce2-0c89-462f-8d87-c482bbd0fc9c"
      },
      "execution_count": 4,
      "outputs": [
        {
          "output_type": "stream",
          "name": "stdout",
          "text": [
            "Looking in indexes: https://pypi.org/simple, https://us-python.pkg.dev/colab-wheels/public/simple/\n",
            "Collecting pyspark\n",
            "  Downloading pyspark-3.4.0.tar.gz (310.8 MB)\n",
            "\u001b[2K     \u001b[90m━━━━━━━━━━━━━━━━━━━━━━━━━━━━━━━━━━━━━━━\u001b[0m \u001b[32m310.8/310.8 MB\u001b[0m \u001b[31m3.1 MB/s\u001b[0m eta \u001b[36m0:00:00\u001b[0m\n",
            "\u001b[?25h  Preparing metadata (setup.py) ... \u001b[?25l\u001b[?25hdone\n",
            "Requirement already satisfied: py4j==0.10.9.7 in /usr/local/lib/python3.10/dist-packages (from pyspark) (0.10.9.7)\n",
            "Building wheels for collected packages: pyspark\n",
            "  Building wheel for pyspark (setup.py) ... \u001b[?25l\u001b[?25hdone\n",
            "  Created wheel for pyspark: filename=pyspark-3.4.0-py2.py3-none-any.whl size=311317130 sha256=16c0b3f1b64ebb2a76d351ea5aea6f280cd07449610448ad49ac5ad6f216bb19\n",
            "  Stored in directory: /root/.cache/pip/wheels/7b/1b/4b/3363a1d04368e7ff0d408e57ff57966fcdf00583774e761327\n",
            "Successfully built pyspark\n",
            "Installing collected packages: pyspark\n",
            "Successfully installed pyspark-3.4.0\n"
          ]
        }
      ]
    },
    {
      "cell_type": "code",
      "source": [
        "\n",
        "# Import Library\n",
        "from pyspark.sql import SparkSession\n",
        "from pyspark.ml.recommendation import ALS\n",
        "from pyspark.sql.functions import col\n",
        "\n",
        "spark = SparkSession.builder.appName(\"Movie Lens\").getOrCreate()"
      ],
      "metadata": {
        "id": "AyEaPBQSiDJP"
      },
      "execution_count": 5,
      "outputs": []
    },
    {
      "cell_type": "code",
      "source": [
        "# Parse String Menjadi Objek Rating\n",
        "def parseRating(str):\n",
        "    fields = str.split(\"::\")\n",
        "    assert len(fields) == 4\n",
        "    return (int(fields[0]), int(fields[1]), float(fields[2]), int(fields[3]))"
      ],
      "metadata": {
        "id": "FhLsTi5xiFxR"
      },
      "execution_count": 6,
      "outputs": []
    },
    {
      "cell_type": "code",
      "source": [
        "# Baca File\n",
        "raw = spark.read.text(\"/content/drive/MyDrive/bigdata-master/spark/examples/mllib/ratings.dat\").rdd.map(lambda x: x[0])\n",
        "ratings = raw.map(parseRating).toDF([\"userId\", \"movieId\", \"rating\", \"timestamp\"])\n",
        "ratings.show(5)"
      ],
      "metadata": {
        "colab": {
          "base_uri": "https://localhost:8080/"
        },
        "id": "gwNPdPvKiILm",
        "outputId": "c846786d-9838-49c9-d478-14704f300625"
      },
      "execution_count": 7,
      "outputs": [
        {
          "output_type": "stream",
          "name": "stdout",
          "text": [
            "+------+-------+------+---------+\n",
            "|userId|movieId|rating|timestamp|\n",
            "+------+-------+------+---------+\n",
            "|     1|   1193|   5.0|978300760|\n",
            "|     1|    661|   3.0|978302109|\n",
            "|     1|    914|   3.0|978301968|\n",
            "|     1|   3408|   4.0|978300275|\n",
            "|     1|   2355|   5.0|978824291|\n",
            "+------+-------+------+---------+\n",
            "only showing top 5 rows\n",
            "\n"
          ]
        }
      ]
    },
    {
      "cell_type": "code",
      "source": [
        "# Data Training 80% dan Test 20%\n",
        "training, test = ratings.randomSplit([0.8, 0.2])"
      ],
      "metadata": {
        "id": "GtrYeKYAiKLK"
      },
      "execution_count": 8,
      "outputs": []
    },
    {
      "cell_type": "code",
      "source": [
        "# Membuat Model\n",
        "als = ALS(maxIter=5, regParam=0.01, userCol=\"userId\", itemCol=\"movieId\", ratingCol=\"rating\")\n",
        "model = als.fit(training)\n",
        "model.save(\"mymodel\")\n",
        ""
      ],
      "metadata": {
        "id": "nrTo5DD6iO2s"
      },
      "execution_count": 9,
      "outputs": []
    },
    {
      "cell_type": "code",
      "source": [
        "\n",
        "# Prediksi Data\n",
        "predictions = model.transform(test)\n",
        "mse = predictions.withColumn(\"diff\", col(\"rating\") - col(\"prediction\")).select((col(\"diff\") ** 2).alias(\"squared_diff\")).filter(~col(\"squared_diff\").isNull()).agg({\"squared_diff\": \"sum\"}).collect()[0][0]\n",
        "print(\"Mean Squared Error:\", mse)\n",
        "\n",
        "predictions.show(10)"
      ],
      "metadata": {
        "colab": {
          "base_uri": "https://localhost:8080/"
        },
        "id": "-iajFQVniQMG",
        "outputId": "3128364d-2040-42e5-8318-eb2322f24f4b"
      },
      "execution_count": 10,
      "outputs": [
        {
          "output_type": "stream",
          "name": "stdout",
          "text": [
            "Mean Squared Error: nan\n",
            "+------+-------+------+---------+----------+\n",
            "|userId|movieId|rating|timestamp|prediction|\n",
            "+------+-------+------+---------+----------+\n",
            "|     1|      1|   5.0|978824268|  4.014726|\n",
            "|     1|    150|   5.0|978301777| 4.0938435|\n",
            "|     1|    783|   4.0|978824291|  4.244564|\n",
            "|     1|   1207|   4.0|978300719| 4.4342365|\n",
            "|     1|   1246|   4.0|978302091| 4.8211203|\n",
            "|     1|   1270|   5.0|978300055| 3.9192498|\n",
            "|     1|   2294|   4.0|978824291| 3.3842287|\n",
            "|     1|   2321|   3.0|978302205| 3.0804398|\n",
            "|     1|   2398|   4.0|978302281|  4.376802|\n",
            "|     1|   2804|   5.0|978300719|  4.485386|\n",
            "+------+-------+------+---------+----------+\n",
            "only showing top 10 rows\n",
            "\n"
          ]
        }
      ]
    },
    {
      "cell_type": "code",
      "source": [
        "\n",
        "# Menyimpan Hasil Prediksi\n",
        "predictions.write.format(\"csv\").save(\"ml-predictions.csv\")"
      ],
      "metadata": {
        "id": "J3xF7_mSiSse"
      },
      "execution_count": 11,
      "outputs": []
    },
    {
      "cell_type": "code",
      "source": [],
      "metadata": {
        "id": "y9ZI6T0yi6L8"
      },
      "execution_count": null,
      "outputs": []
    }
  ]
}