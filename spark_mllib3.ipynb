{
  "nbformat": 4,
  "nbformat_minor": 0,
  "metadata": {
    "colab": {
      "provenance": [],
      "authorship_tag": "ABX9TyOTKWi0EfMVA0dXXDaTDPRM",
      "include_colab_link": true
    },
    "kernelspec": {
      "name": "python3",
      "display_name": "Python 3"
    },
    "language_info": {
      "name": "python"
    }
  },
  "cells": [
    {
      "cell_type": "markdown",
      "metadata": {
        "id": "view-in-github",
        "colab_type": "text"
      },
      "source": [
        "<a href=\"https://colab.research.google.com/github/AlifiyulAkyun/SparkMLLib/blob/main/spark_mllib3.ipynb\" target=\"_parent\"><img src=\"https://colab.research.google.com/assets/colab-badge.svg\" alt=\"Open In Colab\"/></a>"
      ]
    },
    {
      "cell_type": "markdown",
      "source": [
        "* Nama : Alifiyul Akyun\n",
        "* No : 04\n",
        "* Kelas : TI3B\n",
        "* NIM : 2041720036"
      ],
      "metadata": {
        "id": "wYbL41KDfjyn"
      }
    },
    {
      "cell_type": "code",
      "source": [
        "# Connect Google Drive Untuk Ambil Data\n",
        "from google.colab import drive\n",
        "drive.mount('/content/drive')"
      ],
      "metadata": {
        "colab": {
          "base_uri": "https://localhost:8080/"
        },
        "id": "OovUKkdvfkJn",
        "outputId": "5298b92d-05e5-4c2c-ad0e-0ac76ae11168"
      },
      "execution_count": 1,
      "outputs": [
        {
          "output_type": "stream",
          "name": "stdout",
          "text": [
            "Mounted at /content/drive\n"
          ]
        }
      ]
    },
    {
      "cell_type": "code",
      "source": [
        "# Install PySpark\n",
        "!pip install pyspark"
      ],
      "metadata": {
        "colab": {
          "base_uri": "https://localhost:8080/"
        },
        "id": "0-7-Dm17foZI",
        "outputId": "0f4a9fc4-36da-4adf-9818-3869668d12a5"
      },
      "execution_count": 2,
      "outputs": [
        {
          "output_type": "stream",
          "name": "stdout",
          "text": [
            "Looking in indexes: https://pypi.org/simple, https://us-python.pkg.dev/colab-wheels/public/simple/\n",
            "Collecting pyspark\n",
            "  Downloading pyspark-3.4.0.tar.gz (310.8 MB)\n",
            "\u001b[2K     \u001b[90m━━━━━━━━━━━━━━━━━━━━━━━━━━━━━━━━━━━━━━━\u001b[0m \u001b[32m310.8/310.8 MB\u001b[0m \u001b[31m4.5 MB/s\u001b[0m eta \u001b[36m0:00:00\u001b[0m\n",
            "\u001b[?25h  Preparing metadata (setup.py) ... \u001b[?25l\u001b[?25hdone\n",
            "Requirement already satisfied: py4j==0.10.9.7 in /usr/local/lib/python3.10/dist-packages (from pyspark) (0.10.9.7)\n",
            "Building wheels for collected packages: pyspark\n",
            "  Building wheel for pyspark (setup.py) ... \u001b[?25l\u001b[?25hdone\n",
            "  Created wheel for pyspark: filename=pyspark-3.4.0-py2.py3-none-any.whl size=311317130 sha256=dc9f0c80ff20e75e430699b99e8e48b836609b3bb6df9d0f67cdc1048ca74ce1\n",
            "  Stored in directory: /root/.cache/pip/wheels/7b/1b/4b/3363a1d04368e7ff0d408e57ff57966fcdf00583774e761327\n",
            "Successfully built pyspark\n",
            "Installing collected packages: pyspark\n",
            "Successfully installed pyspark-3.4.0\n"
          ]
        }
      ]
    },
    {
      "cell_type": "code",
      "source": [
        "# Import Library\n",
        "from pyspark.mllib.stat import Statistics\n",
        "from pyspark.sql import SparkSession"
      ],
      "metadata": {
        "id": "jhYhG_ySfxAp"
      },
      "execution_count": 3,
      "outputs": []
    },
    {
      "cell_type": "code",
      "source": [
        "spark = SparkSession.builder.appName(\"Movie Lens\").getOrCreate()\n",
        "sc = spark.sparkContext"
      ],
      "metadata": {
        "id": "XA5jNGRCfzBP"
      },
      "execution_count": 4,
      "outputs": []
    },
    {
      "cell_type": "code",
      "source": [
        "# Data Untuk Dihitung\n",
        "raw = sc.textFile(\"/content/drive/MyDrive/bigdata-master/spark/examples/mllib/ratings.dat\")\n",
        "\n",
        "def parseRating(row):\n",
        "    fields = row.split(\"::\")\n",
        "    return float(fields[2])\n",
        "\n",
        "ratings = raw.map(parseRating)"
      ],
      "metadata": {
        "id": "b9xdywY6f1YA"
      },
      "execution_count": 5,
      "outputs": []
    },
    {
      "cell_type": "code",
      "source": [
        "# Diambil dari ratings.dat\n",
        "mat = ratings.map(lambda x: [x])"
      ],
      "metadata": {
        "id": "mOQjkZWBf3VJ"
      },
      "execution_count": 6,
      "outputs": []
    },
    {
      "cell_type": "code",
      "source": [
        "# Perhitungan Statistics\n",
        "summary = Statistics.colStats(mat)\n",
        "print(\"Mean:\", summary.mean()[0])\n",
        "print(\"Variance:\", summary.variance()[0])\n",
        "print(\"Number of Non-Zeros:\", summary.numNonzeros()[0])"
      ],
      "metadata": {
        "colab": {
          "base_uri": "https://localhost:8080/"
        },
        "id": "kqTcSJxWf5L2",
        "outputId": "2ae60fb7-ca6f-4617-996b-6b436aca9228"
      },
      "execution_count": 7,
      "outputs": [
        {
          "output_type": "stream",
          "name": "stdout",
          "text": [
            "Mean: 3.581564453029321\n",
            "Variance: 1.2479165329363306\n",
            "Number of Non-Zeros: 1000209.0\n"
          ]
        }
      ]
    },
    {
      "cell_type": "code",
      "source": [],
      "metadata": {
        "id": "xgCMcdKOgBcg"
      },
      "execution_count": null,
      "outputs": []
    }
  ]
}